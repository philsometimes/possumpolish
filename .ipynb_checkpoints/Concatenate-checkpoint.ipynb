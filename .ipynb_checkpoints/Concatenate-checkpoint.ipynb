{
 "cells": [
  {
   "cell_type": "code",
   "execution_count": 1,
   "metadata": {},
   "outputs": [],
   "source": [
    "from scanDir import scanDir\n",
    "from concatenateVideos import concatenateVideos\n",
    "import numpy as np\n",
    "import cv2\n",
    "import os\n",
    "from datetime import datetime as dt\n",
    "%matplotlib inline\n"
   ]
  },
  {
   "cell_type": "code",
   "execution_count": 29,
   "metadata": {},
   "outputs": [
    {
     "name": "stdout",
     "output_type": "stream",
     "text": [
      "Found file with extension .mp4: E:\\Tegu_GoPro\\GOPR2001.MP4\n",
      "Found file with extension .mp4: E:\\Tegu_GoPro\\GP012001.MP4\n",
      "Found file with extension .mp4: E:\\Tegu_GoPro\\GP022001.MP4\n",
      "Found file with extension .mp4: E:\\Tegu_GoPro\\GP032001.MP4\n",
      "Found file with extension .mp4: E:\\Tegu_GoPro\\GP042001.MP4\n",
      "Found file with extension .mp4: E:\\Tegu_GoPro\\GP052001.MP4\n",
      "Found file with extension .mp4: E:\\Tegu_GoPro\\GP062001.MP4\n",
      "Found file with extension .mp4: E:\\Tegu_GoPro\\GP072001.MP4\n",
      "Found file with extension .mp4: E:\\Tegu_GoPro\\GP082001.MP4\n",
      "Found file with extension .mp4: E:\\Tegu_GoPro\\GP092001.MP4\n",
      "Found file with extension .mp4: E:\\Tegu_GoPro\\GP102001.MP4\n",
      "Found file with extension .mp4: E:\\Tegu_GoPro\\GP112001.MP4\n",
      "Found file with extension .mp4: E:\\Tegu_GoPro\\GP122001.MP4\n",
      "Found file with extension .mp4: E:\\Tegu_GoPro\\GP132001.MP4\n",
      "Found file with extension .mp4: E:\\Tegu_GoPro\\GP142001.MP4\n",
      "Found file with extension .mp4: E:\\Tegu_GoPro\\GP152001.MP4\n"
     ]
    }
   ],
   "source": [
    "input_dir=r'E:\\Tegu_GoPro'\n",
    "video_files = scanDir(input_dir, \"mp4\")\n",
    "video_list_name = 'videos_to_concatenate.txt'\n",
    "codec = 'mp4v'\n",
    "\n",
    "with open(video_list_name, 'w') as filehandle:\n",
    "    for listitem in video_files:\n",
    "        filehandle.write('file \\'%s\\' \\n'%listitem)"
   ]
  },
  {
   "cell_type": "code",
   "execution_count": 32,
   "metadata": {},
   "outputs": [
    {
     "name": "stdout",
     "output_type": "stream",
     "text": [
      "Wall time: 0 ns\n",
      "end of video 0 ... next one now\n",
      "end of video 1 ... next one now\n",
      "end of video 2 ... next one now\n",
      "end of video 3 ... next one now\n",
      "end of video 4 ... next one now\n",
      "end of video 5 ... next one now\n",
      "end of video 6 ... next one now\n",
      "end of video 7 ... next one now\n",
      "end of video 8 ... next one now\n",
      "end of video 9 ... next one now\n",
      "end of video 10 ... next one now\n",
      "end of video 11 ... next one now\n",
      "end of video 12 ... next one now\n",
      "end of video 13 ... next one now\n",
      "end of video 14 ... next one now\n",
      "end of video 15 ... next one now\n",
      "done!\n"
     ]
    }
   ],
   "source": [
    "%time\n",
    "concatenateVideos(video_files,codec,60)"
   ]
  },
  {
   "cell_type": "code",
   "execution_count": 24,
   "metadata": {},
   "outputs": [],
   "source": [
    "cv2.destroyAllWindows()\n"
   ]
  },
  {
   "cell_type": "code",
   "execution_count": null,
   "metadata": {},
   "outputs": [],
   "source": [
    "for video in vid_list:\n",
    "        name = video.split(\"/\")[-1]\n",
    "        root = video.replace(name,'')\n",
    "        output_vid = root+\"robo_trim_\"+name.replace(\" \", \"\")\n",
    "        cap = cv2.VideoCapture(video)    \n",
    "        fourcc = cv2.VideoWriter_fourcc(*codec)\n",
    "        out = cv2.VideoWriter(output_vid,fourcc, 30.0, (1024,1024))\n",
    "        starttime = dt.now()\n",
    "        index = 0\n",
    "        while(cap.isOpened()):\n",
    "            ret, frame = cap.read()\n",
    "            if ret==True:\n",
    "                if index < length:\n",
    "                    out.write(frame)\n",
    "                    index += 1\n",
    "            else:\n",
    "                break\n",
    "        endtime = dt.now()\n",
    "        cap.release()\n",
    "        out.release()\n",
    "        print(\"Trimmed \"+output_vid+\" to \"+str(length)+\" frames in {}.\".format(endtime-starttime))\n",
    "        "
   ]
  },
  {
   "cell_type": "code",
   "execution_count": 49,
   "metadata": {},
   "outputs": [
    {
     "ename": "KeyboardInterrupt",
     "evalue": "",
     "output_type": "error",
     "traceback": [
      "\u001b[1;31m---------------------------------------------------------------------------\u001b[0m",
      "\u001b[1;31mKeyboardInterrupt\u001b[0m                         Traceback (most recent call last)",
      "\u001b[1;32m<ipython-input-49-61fe250ce2f8>\u001b[0m in \u001b[0;36m<module>\u001b[1;34m\u001b[0m\n\u001b[1;32m----> 1\u001b[1;33m \u001b[0mconcatenateVideos\u001b[0m\u001b[1;33m(\u001b[0m\u001b[0mvideo_files\u001b[0m\u001b[1;33m,\u001b[0m\u001b[0mvid_specs\u001b[0m\u001b[1;33m)\u001b[0m\u001b[1;33m\u001b[0m\u001b[1;33m\u001b[0m\u001b[0m\n\u001b[0m",
      "\u001b[1;32m<ipython-input-48-00b84115aec7>\u001b[0m in \u001b[0;36mconcatenateVideos\u001b[1;34m(video_files, vid_specs)\u001b[0m\n\u001b[0;32m     17\u001b[0m             \u001b[0mret\u001b[0m\u001b[1;33m,\u001b[0m \u001b[0mframe\u001b[0m \u001b[1;33m=\u001b[0m \u001b[0mcap\u001b[0m\u001b[1;33m.\u001b[0m\u001b[0mread\u001b[0m\u001b[1;33m(\u001b[0m\u001b[1;33m)\u001b[0m\u001b[1;33m\u001b[0m\u001b[1;33m\u001b[0m\u001b[0m\n\u001b[0;32m     18\u001b[0m         \u001b[0mout\u001b[0m\u001b[1;33m.\u001b[0m\u001b[0mwrite\u001b[0m\u001b[1;33m(\u001b[0m\u001b[0mframe\u001b[0m\u001b[1;33m)\u001b[0m\u001b[1;33m\u001b[0m\u001b[1;33m\u001b[0m\u001b[0m\n\u001b[1;32m---> 19\u001b[1;33m         \u001b[1;32mif\u001b[0m \u001b[0mcv2\u001b[0m\u001b[1;33m.\u001b[0m\u001b[0mwaitKey\u001b[0m\u001b[1;33m(\u001b[0m\u001b[1;36m1\u001b[0m\u001b[1;33m)\u001b[0m \u001b[1;33m&\u001b[0m \u001b[1;36m0xFF\u001b[0m \u001b[1;33m==\u001b[0m \u001b[0mord\u001b[0m\u001b[1;33m(\u001b[0m\u001b[1;34m'q'\u001b[0m\u001b[1;33m)\u001b[0m\u001b[1;33m:\u001b[0m\u001b[1;33m\u001b[0m\u001b[1;33m\u001b[0m\u001b[0m\n\u001b[0m\u001b[0;32m     20\u001b[0m             \u001b[1;32mbreak\u001b[0m\u001b[1;33m\u001b[0m\u001b[1;33m\u001b[0m\u001b[0m\n\u001b[0;32m     21\u001b[0m \u001b[1;33m\u001b[0m\u001b[0m\n",
      "\u001b[1;31mKeyboardInterrupt\u001b[0m: "
     ]
    }
   ],
   "source": [
    "concatenateVideos(video_files,vid_specs)"
   ]
  },
  {
   "cell_type": "code",
   "execution_count": null,
   "metadata": {},
   "outputs": [],
   "source": [
    "\n",
    "while(cap.isOpened()):\n",
    "    ret, frame = cap.read()\n",
    "    if frame is None:\n",
    "        print \"end of video \" + str(video_index) + \" .. next one now\"\n",
    "        video_index += 1\n",
    "        if video_index >= len(videofiles):\n",
    "            break\n",
    "        cap = cv2.VideoCapture(videofiles[ video_index ])\n",
    "        ret, frame = cap.read()\n",
    "    cv2.imshow('frame',frame)\n",
    "    out.write(frame)\n",
    "    if cv2.waitKey(1) & 0xFF == ord('q'):\n",
    "        break\n",
    "\n",
    "cap.release()\n",
    "out.release()\n",
    "cv2.destroyAllWindows()\n",
    "\n",
    "print \"end.\""
   ]
  },
  {
   "cell_type": "code",
   "execution_count": 6,
   "metadata": {},
   "outputs": [
    {
     "data": {
      "text/plain": [
       "'4.2.0'"
      ]
     },
     "execution_count": 6,
     "metadata": {},
     "output_type": "execute_result"
    }
   ],
   "source": [
    "cv2.__version__"
   ]
  },
  {
   "cell_type": "code",
   "execution_count": 77,
   "metadata": {},
   "outputs": [
    {
     "name": "stdout",
     "output_type": "stream",
     "text": [
      "Found file with extension .mp4E:\\Opossum\\GOPR2003.MP4\n",
      "Found file with extension .mp4E:\\Opossum\\GP012003.MP4\n",
      "Found file with extension .mp4E:\\Opossum\\GP022003.MP4\n",
      "Found file with extension .mp4E:\\Opossum\\GP032003.MP4\n",
      "Found file with extension .mp4E:\\Opossum\\GP042003.MP4\n",
      "Found file with extension .mp4E:\\Opossum\\GP052003.MP4\n",
      "Found file with extension .mp4E:\\Opossum\\GP062003.MP4\n",
      "Found file with extension .mp4E:\\Opossum\\GP072003.MP4\n",
      "Found file with extension .mp4E:\\Opossum\\GP082003.MP4\n",
      "Found file with extension .mp4E:\\Opossum\\GP092003.MP4\n",
      "Found file with extension .mp4E:\\Opossum\\GP102003.MP4\n",
      "Found file with extension .mp4E:\\Opossum\\GP112003.MP4\n",
      "Found file with extension .mp4E:\\Opossum\\GP122003.MP4\n",
      "Found file with extension .mp4E:\\Opossum\\GP132003.MP4\n",
      "Found file with extension .mp4E:\\Opossum\\GP142003.MP4\n",
      "Found file with extension .mp4E:\\Opossum\\GP152003.MP4\n"
     ]
    }
   ],
   "source": [
    "import ffmpy\n",
    "from scanDir import scanDir\n",
    "input_dir=r'E:\\Opossum'\n",
    "opossum_list = scanDir(input_dir, \"mp4\")\n",
    "video_list_name = 'videos_to_concatenate.txt'\n",
    "\n",
    "with open(video_list_name, 'w') as filehandle:\n",
    "    for listitem in opossum_list:\n",
    "        filehandle.write('file \\'%s\\' \\n'%listitem)"
   ]
  },
  {
   "cell_type": "code",
   "execution_count": 76,
   "metadata": {},
   "outputs": [],
   "source": [
    "concatenateVideos = ffmpy.FFmpeg(\n",
    "    inputs={f'{video_list_name}':None},\n",
    "    outputs={'concatenated_videos.mp4':'-c copy'},\n",
    "    global_options=['-f concat'])"
   ]
  },
  {
   "cell_type": "code",
   "execution_count": 69,
   "metadata": {},
   "outputs": [
    {
     "data": {
      "text/plain": [
       "'ffmpeg -f concat -i E:\\\\Opossum\\\\GOPR2003.MP4 -c copy concatenated_videos.mp4'"
      ]
     },
     "execution_count": 69,
     "metadata": {},
     "output_type": "execute_result"
    }
   ],
   "source": [
    "concatenateVideos.cmd"
   ]
  },
  {
   "cell_type": "code",
   "execution_count": 74,
   "metadata": {},
   "outputs": [
    {
     "ename": "FFRuntimeError",
     "evalue": "`ffmpeg -f concat -i videos_to_concatenate.txt -c copy concatenated_videos.mp4` exited with status 1\n\nSTDOUT:\n\n\nSTDERR:\n",
     "output_type": "error",
     "traceback": [
      "\u001b[1;31m---------------------------------------------------------------------------\u001b[0m",
      "\u001b[1;31mFFRuntimeError\u001b[0m                            Traceback (most recent call last)",
      "\u001b[1;32m<ipython-input-74-d1fc1647aa03>\u001b[0m in \u001b[0;36m<module>\u001b[1;34m\u001b[0m\n\u001b[1;32m----> 1\u001b[1;33m \u001b[0mconcatenateVideos\u001b[0m\u001b[1;33m.\u001b[0m\u001b[0mrun\u001b[0m\u001b[1;33m(\u001b[0m\u001b[1;33m)\u001b[0m\u001b[1;33m\u001b[0m\u001b[1;33m\u001b[0m\u001b[0m\n\u001b[0m",
      "\u001b[1;32mC:\\ProgramData\\Anaconda3\\lib\\site-packages\\ffmpy.py\u001b[0m in \u001b[0;36mrun\u001b[1;34m(self, input_data, stdout, stderr)\u001b[0m\n\u001b[0;32m    103\u001b[0m         \u001b[0mout\u001b[0m \u001b[1;33m=\u001b[0m \u001b[0mself\u001b[0m\u001b[1;33m.\u001b[0m\u001b[0mprocess\u001b[0m\u001b[1;33m.\u001b[0m\u001b[0mcommunicate\u001b[0m\u001b[1;33m(\u001b[0m\u001b[0minput\u001b[0m\u001b[1;33m=\u001b[0m\u001b[0minput_data\u001b[0m\u001b[1;33m)\u001b[0m\u001b[1;33m\u001b[0m\u001b[1;33m\u001b[0m\u001b[0m\n\u001b[0;32m    104\u001b[0m         \u001b[1;32mif\u001b[0m \u001b[0mself\u001b[0m\u001b[1;33m.\u001b[0m\u001b[0mprocess\u001b[0m\u001b[1;33m.\u001b[0m\u001b[0mreturncode\u001b[0m \u001b[1;33m!=\u001b[0m \u001b[1;36m0\u001b[0m\u001b[1;33m:\u001b[0m\u001b[1;33m\u001b[0m\u001b[1;33m\u001b[0m\u001b[0m\n\u001b[1;32m--> 105\u001b[1;33m             \u001b[1;32mraise\u001b[0m \u001b[0mFFRuntimeError\u001b[0m\u001b[1;33m(\u001b[0m\u001b[0mself\u001b[0m\u001b[1;33m.\u001b[0m\u001b[0mcmd\u001b[0m\u001b[1;33m,\u001b[0m \u001b[0mself\u001b[0m\u001b[1;33m.\u001b[0m\u001b[0mprocess\u001b[0m\u001b[1;33m.\u001b[0m\u001b[0mreturncode\u001b[0m\u001b[1;33m,\u001b[0m \u001b[0mout\u001b[0m\u001b[1;33m[\u001b[0m\u001b[1;36m0\u001b[0m\u001b[1;33m]\u001b[0m\u001b[1;33m,\u001b[0m \u001b[0mout\u001b[0m\u001b[1;33m[\u001b[0m\u001b[1;36m1\u001b[0m\u001b[1;33m]\u001b[0m\u001b[1;33m)\u001b[0m\u001b[1;33m\u001b[0m\u001b[1;33m\u001b[0m\u001b[0m\n\u001b[0m\u001b[0;32m    106\u001b[0m \u001b[1;33m\u001b[0m\u001b[0m\n\u001b[0;32m    107\u001b[0m         \u001b[1;32mreturn\u001b[0m \u001b[0mout\u001b[0m\u001b[1;33m\u001b[0m\u001b[1;33m\u001b[0m\u001b[0m\n",
      "\u001b[1;31mFFRuntimeError\u001b[0m: `ffmpeg -f concat -i videos_to_concatenate.txt -c copy concatenated_videos.mp4` exited with status 1\n\nSTDOUT:\n\n\nSTDERR:\n"
     ]
    }
   ],
   "source": [
    "concatenateVideos.run()"
   ]
  },
  {
   "cell_type": "code",
   "execution_count": 48,
   "metadata": {},
   "outputs": [
    {
     "ename": "AttributeError",
     "evalue": "module 'ffmpeg' has no attribute 'file_input'",
     "output_type": "error",
     "traceback": [
      "\u001b[1;31m---------------------------------------------------------------------------\u001b[0m",
      "\u001b[1;31mAttributeError\u001b[0m                            Traceback (most recent call last)",
      "\u001b[1;32m<ipython-input-48-0b228dc55c82>\u001b[0m in \u001b[0;36m<module>\u001b[1;34m\u001b[0m\n\u001b[1;32m----> 1\u001b[1;33m \u001b[0mffmpeg\u001b[0m\u001b[1;33m.\u001b[0m\u001b[0mfile_input\u001b[0m\u001b[1;33m(\u001b[0m\u001b[1;33m)\u001b[0m\u001b[1;33m\u001b[0m\u001b[1;33m\u001b[0m\u001b[0m\n\u001b[0m",
      "\u001b[1;31mAttributeError\u001b[0m: module 'ffmpeg' has no attribute 'file_input'"
     ]
    }
   ],
   "source": [
    "ffmpeg.file_input()"
   ]
  },
  {
   "cell_type": "code",
   "execution_count": null,
   "metadata": {},
   "outputs": [],
   "source": []
  }
 ],
 "metadata": {
  "kernelspec": {
   "display_name": "Python 3",
   "language": "python",
   "name": "python3"
  },
  "language_info": {
   "codemirror_mode": {
    "name": "ipython",
    "version": 3
   },
   "file_extension": ".py",
   "mimetype": "text/x-python",
   "name": "python",
   "nbconvert_exporter": "python",
   "pygments_lexer": "ipython3",
   "version": "3.7.4"
  }
 },
 "nbformat": 4,
 "nbformat_minor": 4
}
