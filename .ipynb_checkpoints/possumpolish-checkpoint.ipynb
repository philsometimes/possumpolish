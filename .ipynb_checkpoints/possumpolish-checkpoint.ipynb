{
 "cells": [
  {
   "cell_type": "code",
   "execution_count": 2,
   "metadata": {},
   "outputs": [],
   "source": [
    "input_dir = r'/Users/phil/Desktop/test-masking'\n",
    "output_dir = r'Users\\Phil\\Desktop\\possumpolish-output'\n",
    "comp_codec = 'avc1'\n",
    "raw_codec = 'I420'\n",
    "\n",
    "fps = 30\n",
    "vid_res = \"1024x1024\"\n",
    "vid_frames = 800"
   ]
  },
  {
   "cell_type": "code",
   "execution_count": 14,
   "metadata": {},
   "outputs": [
    {
     "ename": "TypeError",
     "evalue": "scanDir() missing 1 required positional argument: 'directory'",
     "output_type": "error",
     "traceback": [
      "\u001b[1;31m---------------------------------------------------------------------------\u001b[0m",
      "\u001b[1;31mTypeError\u001b[0m                                 Traceback (most recent call last)",
      "\u001b[1;32m<ipython-input-14-3df868ac6b09>\u001b[0m in \u001b[0;36m<module>\u001b[1;34m\u001b[0m\n\u001b[0;32m      1\u001b[0m \u001b[1;31m###### FEB 14 STITCH ALL VIDEOS ######\u001b[0m\u001b[1;33m\u001b[0m\u001b[1;33m\u001b[0m\u001b[1;33m\u001b[0m\u001b[0m\n\u001b[0;32m      2\u001b[0m \u001b[1;32mfrom\u001b[0m \u001b[0mscanDir\u001b[0m \u001b[1;32mimport\u001b[0m \u001b[0mscanDir\u001b[0m\u001b[1;33m\u001b[0m\u001b[1;33m\u001b[0m\u001b[0m\n\u001b[1;32m----> 3\u001b[1;33m \u001b[0mscanDir\u001b[0m\u001b[1;33m(\u001b[0m\u001b[1;33m)\u001b[0m\u001b[1;33m\u001b[0m\u001b[1;33m\u001b[0m\u001b[0m\n\u001b[0m",
      "\u001b[1;31mTypeError\u001b[0m: scanDir() missing 1 required positional argument: 'directory'"
     ]
    }
   ],
   "source": [
    "###### FEB 14 STITCH ALL VIDEOS ######\n",
    "from scanDir import scanDir\n",
    "scanDir()"
   ]
  },
  {
   "cell_type": "code",
   "execution_count": 1,
   "metadata": {},
   "outputs": [],
   "source": [
    "###### DEC 11 TESTING MARKER MASK\n",
    "import cv2\n",
    "import numpy as np\n",
    "import imutils\n",
    "from datetime import datetime as dt\n",
    "import os\n",
    "import blend_modes\n",
    "import re\n",
    "\n",
    "                \n",
    "def scanDir(directory, skip=\"\"):\n",
    "    vid_list=[]\n",
    "    for root, dirs, files in os.walk(directory):\n",
    "        for name in files:\n",
    "            if name.endswith(\".avi\") and not re.search(skip,root):\n",
    "                filename = os.path.join(root, name)\n",
    "                print(\"Found XROMM video: \" + filename)\n",
    "                vid_list.append(filename)\n",
    "                continue\n",
    "            else:\n",
    "                continue\n",
    "    return(vid_list)\n",
    "\n",
    "        \n",
    "def maskMarkers(vid_list, codec='avc1'):\n",
    "    for video in vid_list:\n",
    "        name = video.split(\"/\")[-1]\n",
    "        root = video.replace(name,'')\n",
    "        output_dilated = root+\"robo_dilate\"+name.replace(\" \", \"\")\n",
    "        output_dilated_CLAHE = root+\"robo_CLAHE_dilate\"+name.replace(\" \", \"\")\n",
    "        output_dilated_CLAHE_blend = root+\"robo_CLAHE_dilate_blend\"+name.replace(\" \", \"\")\n",
    "\n",
    "\n",
    "        \n",
    "        cap = cv2.VideoCapture(video)    \n",
    "        fourcc = cv2.VideoWriter_fourcc(*codec)\n",
    "        \n",
    "        out_dilated = cv2.VideoWriter(output_dilated,fourcc, 30.0, (1024,1024))\n",
    "        out_dilated_CLAHE = cv2.VideoWriter(output_dilated_CLAHE,fourcc, 30.0, (1024,1024))\n",
    "        out_dilated_CLAHE_blend = cv2.VideoWriter(output_dilated_CLAHE_blend,fourcc, 30.0, (1024,1024))\n",
    "\n",
    "\n",
    "\n",
    "        \n",
    "        starttime = dt.now()\n",
    "        index = 0\n",
    "        while(cap.isOpened()):\n",
    "            ret, frame = cap.read()\n",
    "            if ret==True:\n",
    "                frame = cv2.cvtColor(frame, cv2.COLOR_BGR2GRAY)\n",
    "                kernel3 = np.ones((3,3),np.uint8)\n",
    "                kernel5 = np.ones((5,5),np.uint8)\n",
    "                frame_dilated3 = cv2.dilate(frame,kernel3,iterations = 2)          \n",
    "                clahe = cv2.createCLAHE(clipLimit=1.5, tileGridSize= (10,10))\n",
    "                frame_dilated3_clahe = clahe.apply(frame_dilated3)\n",
    "                \n",
    "                frame = cv2.cvtColor(frame, cv2.COLOR_BGR2BGRA,4).astype(np.float32)\n",
    "                frame_dilated3 = cv2.cvtColor(frame_dilated3, cv2.COLOR_BGR2BGRA,4).astype(np.float32)\n",
    "                frame_dilated3_clahe = cv2.cvtColor(frame_dilated3_clahe, cv2.COLOR_BGR2BGRA,4).astype(np.float32)\n",
    "                \n",
    "                frame_screen5 = blend_modes.screen(frame_dilated3,frame_dilated3_clahe,1)\n",
    "                \n",
    "                \n",
    "                frame_dilated3 = cv2.cvtColor(frame_dilated3, cv2.COLOR_BGRA2BGR).astype(np.uint8)  \n",
    "                frame_dilated3_clahe = cv2.cvtColor(frame_dilated3_clahe, cv2.COLOR_BGRA2BGR).astype(np.uint8)  \n",
    "                frame_screen5 = cv2.cvtColor(frame_screen5, cv2.COLOR_BGRA2BGR).astype(np.uint8)  \n",
    "\n",
    "                \n",
    "                out_dilated.write(frame_dilated3)\n",
    "                out_dilated_CLAHE.write(frame_dilated3_clahe)\n",
    "                out_dilated_CLAHE_blend.write(frame_screen5)\n",
    "\n",
    "                index += 1\n",
    "#                 print(\"Working on frame: \"+str(index))\n",
    "\n",
    "            else:\n",
    "                break\n",
    "        endtime = dt.now()\n",
    "        cap.release()\n",
    "        out_dilated.release()\n",
    "        out_dilated_CLAHE.release()\n",
    "        out_dilated_CLAHE_blend.release()\n",
    "\n",
    "\n",
    "        \n",
    "        out_dilated.release()\n",
    "        print(\"Enhanced \"+name+\" in {}.\".format(endtime-starttime))\n",
    "\n",
    "\n"
   ]
  },
  {
   "cell_type": "code",
   "execution_count": null,
   "metadata": {},
   "outputs": [
    {
     "name": "stdout",
     "output_type": "stream",
     "text": [
      "Found XROMM video: /Users/phil/Desktop/test-masking/run3circles_90-35-4msCam2.avi\n"
     ]
    }
   ],
   "source": [
    "in_list = scanDir(input_dir,\"robo\")\n",
    "len(in_list)\n",
    "maskMarkers(in_list)\n"
   ]
  },
  {
   "cell_type": "code",
   "execution_count": null,
   "metadata": {},
   "outputs": [],
   "source": []
  },
  {
   "cell_type": "code",
   "execution_count": 31,
   "metadata": {},
   "outputs": [],
   "source": [
    "###### USE THIS\n",
    "import cv2\n",
    "import numpy as np\n",
    "import imutils\n",
    "from datetime import datetime as dt\n",
    "import os\n",
    "import blend_modes\n",
    "import re\n",
    "\n",
    "def renameVideos(directory,skip=\"\"):\n",
    "    vid_list=[]\n",
    "    for root, dirs, files in os.walk(directory):\n",
    "        for name in files:\n",
    "            if name.endswith(\".avi\") and name.startswith(\"Camera\") and not re.search(skip,root):\n",
    "                run_name = root.split(\"\\\\\")[-1]\n",
    "                new_name = run_name+name.replace(\"era No.\",\"\")\n",
    "                old_path = os.path.join(root,name)\n",
    "                new_path = os.path.join(root,new_name)\n",
    "                os.rename(old_path,new_path)\n",
    "                vid_list.append(new_path)\n",
    "            else:\n",
    "                continue\n",
    "    return vid_list\n",
    "                \n",
    "def scanDir(directory, skip=\"\"):\n",
    "    vid_list=[]\n",
    "    for root, dirs, files in os.walk(directory):\n",
    "        for name in files:\n",
    "            if name.endswith(\".avi\") and not re.search(skip,root):\n",
    "                filename = os.path.join(root, name)\n",
    "                print(\"Found XROMM video: \" + filename)\n",
    "                vid_list.append(filename)\n",
    "                continue\n",
    "            else:\n",
    "                continue\n",
    "    return(vid_list)\n",
    "\n",
    "def trimVid(vid_list, length, codec='I420'):\n",
    "    for video in vid_list:\n",
    "        name = video.split(\"/\")[-1]\n",
    "        root = video.replace(name,'')\n",
    "        output_vid = root+\"robo-trim_\"+name.replace(\" \", \"\")\n",
    "        cap = cv2.VideoCapture(video)    \n",
    "        fourcc = cv2.VideoWriter_fourcc(*codec)\n",
    "        out = cv2.VideoWriter(output_vid,fourcc, 30.0, (1024,1024))\n",
    "        starttime = dt.now()\n",
    "        index = 0\n",
    "        while(cap.isOpened()):\n",
    "            ret, frame = cap.read()\n",
    "            if ret==True:\n",
    "                if index < length:\n",
    "                    out.write(frame)\n",
    "                    index += 1\n",
    "            else:\n",
    "                break\n",
    "        endtime = dt.now()\n",
    "        cap.release()\n",
    "        out.release()\n",
    "        print(\"Trimmed \"+output_vid+\" to \"+str(length)+\" frames in {}.\".format(endtime-starttime))\n",
    "        \n",
    "def compressVid(vid_list, codec='mp4v'):\n",
    "    for video in vid_list:\n",
    "        name = video.split(\"\\\\\")[-1]\n",
    "        root = video.replace(name,'')\n",
    "        output_vid = root+\"robo-preview_\"+name.replace(\" \", \"\")\n",
    "        cap = cv2.VideoCapture(video)    \n",
    "        fourcc = cv2.VideoWriter_fourcc(*codec)\n",
    "        out = cv2.VideoWriter(output_vid,fourcc, 30.0, (1024,1024))\n",
    "        starttime = dt.now()\n",
    "        index = 0\n",
    "        while(cap.isOpened()):\n",
    "            ret, frame = cap.read()\n",
    "            if ret==True:\n",
    "                out.write(frame)\n",
    "            else:\n",
    "                break\n",
    "        endtime = dt.now()\n",
    "        cap.release()\n",
    "        out.release()\n",
    "        print(\"Compressed \"+output_vid+\" in {}.\".format(endtime-starttime))\n",
    "        \n",
    "def enhanceVid(vid_list, codec='mp4v'):\n",
    "    for video in vid_list:\n",
    "        name = video.split(\"/\")[-1]\n",
    "        root = video.replace(name,'')\n",
    "        output_clahe = root+\"robo_CLAHE_\"+name.replace(\" \", \"\")\n",
    "        output_eroded = root+\"robo_CLAHE_eroded_\"+name.replace(\" \", \"\")\n",
    "        output_dilated = root+\"robo_CLAHE_dilated_\"+name.replace(\" \", \"\")\n",
    "        output_opened = root+\"robo_CLAHE_opened_\"+name.replace(\" \", \"\")\n",
    "        output_dodge = root+\"robo_CLAHE_dodge_\"+name.replace(\" \", \"\")\n",
    "        output_softlight = root+\"robo_CLAHE_softlight_\"+name.replace(\" \", \"\")\n",
    "        output_screen = root+\"robo_CLAHE_screen_\"+name.replace(\" \", \"\")\n",
    "        output_highlight = root+\"robo_CLAHE_highlight_\"+name.replace(\" \", \"\")\n",
    "\n",
    "        cap = cv2.VideoCapture(video)    \n",
    "        fourcc = cv2.VideoWriter_fourcc(*codec)\n",
    "        \n",
    "        out_clahe = cv2.VideoWriter(output_clahe,fourcc, 30.0, (1024,1024))\n",
    "        out_eroded = cv2.VideoWriter(output_eroded,fourcc, 30.0, (1024,1024))\n",
    "        out_dilated = cv2.VideoWriter(output_dilated,fourcc, 30.0, (1024,1024))\n",
    "        out_opened = cv2.VideoWriter(output_opened,fourcc, 30.0, (1024,1024))\n",
    "        out_dodge = cv2.VideoWriter(output_dodge,fourcc, 30.0, (1024,1024))\n",
    "        out_softlight = cv2.VideoWriter(output_softlight,fourcc, 30.0, (1024,1024))\n",
    "        out_screen = cv2.VideoWriter(output_screen,fourcc, 30.0, (1024,1024))       \n",
    "        out_highlight = cv2.VideoWriter(output_highlight,fourcc, 30.0, (1024,1024))\n",
    "        \n",
    "        starttime = dt.now()\n",
    "        index = 0\n",
    "        while(cap.isOpened()):\n",
    "            ret, frame = cap.read()\n",
    "            if ret==True:\n",
    "                frame = cv2.cvtColor(frame, cv2.COLOR_BGR2GRAY)\n",
    "                clahe = cv2.createCLAHE(clipLimit=2, tileGridSize= (64,64))\n",
    "                frame_clahe = clahe.apply(frame)\n",
    "            \n",
    "                kernel3 = np.ones((3,3),np.uint8)\n",
    "                kernel5 = np.ones((5,5),np.uint8)\n",
    "                kernel9 = np.ones((9,9),np.uint8)\n",
    "                kernel17 = np.ones((17,17),np.uint8)\n",
    "                kernel25 = np.ones((25,25),np.uint8)\n",
    "                \n",
    "                #new dec 10#\n",
    "\n",
    "                frame_dilated5 = cv2.dilate(frame_clahe,kernel5,iterations = 1)\n",
    "                frame = cv2.cvtColor(frame, cv2.COLOR_BGR2BGRA,4).astype(np.float32)\n",
    "                frame_dilated5 = cv2.cvtColor(frame_dilated5, cv2.COLOR_BGR2BGRA,4).astype(np.float32)\n",
    "\n",
    "                frame_screen5 = blend_modes.screen(frame,frame_dilated5,1)\n",
    "                frame_screen5 = cv2.cvtColor(frame_screen5, cv2.COLOR_BGRA2BGR).astype(np.uint8)  \n",
    "\n",
    "                \n",
    "                \n",
    "                frame_dilated3 = cv2.dilate(frame_clahe,kernel3,iterations = 1)\n",
    "                frame_eroded3 = cv2.erode(frame_clahe,kernel3,iterations = 1)  \n",
    "                \n",
    "                frame_eroded5 = cv2.erode(frame_clahe,kernel5,iterations = 1)\n",
    "                frame_eroded9 = cv2.erode(frame_clahe,kernel9,iterations = 1)\n",
    "                frame_eroded17 = cv2.erode(frame_clahe,kernel17,iterations = 1)  \n",
    "                frame_eroded25 = cv2.erode(frame_clahe,kernel25,iterations = 1)\n",
    "                frame_opened = cv2.dilate(frame_eroded5,kernel3,iterations = 1)\n",
    "                \n",
    "                frame = cv2.cvtColor(frame, cv2.COLOR_BGR2BGRA,4).astype(np.float32)\n",
    "                frame_clahe = cv2.cvtColor(frame_clahe, cv2.COLOR_BGR2BGRA,4).astype(np.float32)\n",
    "                frame_eroded5 = cv2.cvtColor(frame_eroded5, cv2.COLOR_BGR2BGRA,4).astype(np.float32)\n",
    "                frame_eroded9 = cv2.cvtColor(frame_eroded9, cv2.COLOR_BGR2BGRA,4).astype(np.float32)\n",
    "                frame_eroded17 = cv2.cvtColor(frame_eroded17, cv2.COLOR_BGR2BGRA,4).astype(np.float32)\n",
    "                frame_eroded25 = cv2.cvtColor(frame_eroded25, cv2.COLOR_BGR2BGRA,4).astype(np.float32)\n",
    "                \n",
    "                frame_dodge = blend_modes.dodge(frame_clahe, frame_clahe, 0.5)\n",
    "                frame_softlight = blend_modes.soft_light(frame,frame_clahe,1)\n",
    "                frame_screen = blend_modes.screen(frame,frame_clahe,1)\n",
    "                \n",
    "                frame_highlight = blend_modes.difference(frame, frame_eroded9, 1)\n",
    "                frame_highlight = blend_modes.addition(frame_highlight, frame_clahe,1)\n",
    "                \n",
    "#                 frame_highlight9 = blend_modes.divide(frame,frame_eroded9,1)\n",
    "#                 frame_highlight9 = blend_modes.multiply(frame_highlight9,frame_clahe,1)\n",
    "#                 frame_highlight17 = blend_modes.divide(frame,frame_eroded17,1)\n",
    "#                 frame_highlight17 = blend_modes.multiply(frame_highlight17,frame_clahe,1)\n",
    "#                 frame_highlight25 = blend_modes.divide(frame,frame_eroded25,1)\n",
    "#                 frame_highlight25 = blend_modes.multiply(frame_highlight25,frame_clahe,1)\n",
    "#                 frame_highlight =  blend_modes.soft_light(frame_highlight9, frame_highlight17, 0.5)\n",
    "#                 frame_highlight =  blend_modes.soft_light(frame_highlight, frame_highlight25, 0.5)\n",
    "                \n",
    "                frame = cv2.cvtColor(frame, cv2.COLOR_BGRA2BGR).astype(np.uint8)\n",
    "                frame_clahe = cv2.cvtColor(frame_clahe, cv2.COLOR_BGRA2BGR).astype(np.uint8)\n",
    "                frame_eroded5 = cv2.cvtColor(frame_eroded5, cv2.COLOR_BGRA2BGR).astype(np.uint8)  \n",
    "                frame_opened = cv2.cvtColor(frame_opened, cv2.COLOR_GRAY2BGR)  \n",
    "                frame_dodge = cv2.cvtColor(frame_dodge, cv2.COLOR_BGRA2BGR).astype(np.uint8)  \n",
    "                frame_softlight = cv2.cvtColor(frame_softlight, cv2.COLOR_BGRA2BGR).astype(np.uint8)  \n",
    "                frame_screen = cv2.cvtColor(frame_screen, cv2.COLOR_BGRA2BGR).astype(np.uint8)  \n",
    "                frame_highlight = cv2.cvtColor(frame_highlight, cv2.COLOR_BGRA2BGR).astype(np.uint8)  \n",
    "                \n",
    "                frame_dilated3 = cv2.cvtColor(frame_dilated3, cv2.COLOR_GRAY2BGR)\n",
    "                frame_eroded3 = cv2.cvtColor(frame_eroded3, cv2.COLOR_GRAY2BGR)\n",
    "\n",
    "\n",
    "\n",
    "\n",
    "\n",
    "                out_clahe.write(frame_clahe)\n",
    "                out_eroded.write(frame_eroded5)\n",
    "                out_opened.write(frame_opened)\n",
    "                out_dodge.write(frame_dodge)\n",
    "                out_softlight.write(frame_softlight)\n",
    "                out_screen.write(frame_screen5)\n",
    "                out_highlight.write(frame_highlight)\n",
    "                \n",
    "                out_dilated.write(frame_dilated3)\n",
    "\n",
    "                index += 1\n",
    "#                 print(\"Working on frame: \"+str(index))\n",
    "\n",
    "            else:\n",
    "                break\n",
    "        endtime = dt.now()\n",
    "        cap.release()\n",
    "        out_clahe.release()\n",
    "        out_eroded.release()\n",
    "        out_opened.release()\n",
    "        out_dodge.release()\n",
    "        out_softlight.release()\n",
    "        out_screen.release()\n",
    "        out_highlight.release()\n",
    "        \n",
    "        out_dilated.release()\n",
    "        print(\"Enhanced \"+name+\" in {}.\".format(endtime-starttime))\n",
    "\n"
   ]
  },
  {
   "cell_type": "code",
   "execution_count": 27,
   "metadata": {},
   "outputs": [
    {
     "name": "stdout",
     "output_type": "stream",
     "text": [
      "Found XROMM video: C:\\Users\\Phil\\Desktop\\dlc-meeting\\run3circles_90-35-4msCam2.avi\n"
     ]
    },
    {
     "data": {
      "text/plain": [
       "1"
      ]
     },
     "execution_count": 27,
     "metadata": {},
     "output_type": "execute_result"
    }
   ],
   "source": [
    "in_list = scanDir(input_dir,\"cal\")\n",
    "len(in_list)"
   ]
  },
  {
   "cell_type": "code",
   "execution_count": 25,
   "metadata": {},
   "outputs": [
    {
     "data": {
      "text/plain": [
       "'C:\\\\Users\\\\Phil\\\\Desktop\\\\dlc-meeting'"
      ]
     },
     "execution_count": 25,
     "metadata": {},
     "output_type": "execute_result"
    }
   ],
   "source": [
    "input_dir"
   ]
  },
  {
   "cell_type": "code",
   "execution_count": 32,
   "metadata": {},
   "outputs": [
    {
     "name": "stdout",
     "output_type": "stream",
     "text": [
      "Enhanced C:\\Users\\Phil\\Desktop\\dlc-meeting\\run3circles_90-35-4msCam2.avi in 0:21:06.283362.\n"
     ]
    }
   ],
   "source": [
    "enhanceVid(in_list, codec='mp4v')"
   ]
  },
  {
   "cell_type": "code",
   "execution_count": 24,
   "metadata": {},
   "outputs": [],
   "source": [
    "video = in_list[0]"
   ]
  },
  {
   "cell_type": "code",
   "execution_count": 28,
   "metadata": {},
   "outputs": [
    {
     "data": {
      "text/plain": [
       "'10_t4_squeeze_A-loadingonlyCam1.avi'"
      ]
     },
     "execution_count": 28,
     "metadata": {},
     "output_type": "execute_result"
    }
   ],
   "source": [
    "name = video.split(\"\\\\\")[-1]\n",
    "name"
   ]
  },
  {
   "cell_type": "code",
   "execution_count": null,
   "metadata": {},
   "outputs": [],
   "source": [
    "name = video.split(\"/\")[-1]\n",
    "root = video.replace(name,'')\n",
    "output_vid = root+\"comp_\"+name.replace(\" \", \"\")\n",
    "cap = cv2.VideoCapture(video)    \n",
    "fourcc = cv2.VideoWriter_fourcc(*codec)\n",
    "out = cv2.VideoWriter(output_vid,fourcc, 30.0, (1024,1024))\n",
    "starttime = dt.now()\n",
    "index = 0\n",
    "while(cap.isOpened()):\n",
    "    ret, frame = cap.read()\n",
    "    if ret==True:\n",
    "        frame = cv2.cvtColor(frame, cv2.COLOR_BGR2GRAY)\n",
    "        clahe = cv2.createCLAHE(clipLimit=3, tileGridSize= (64,64))\n",
    "        frame = clahe.apply(frame)\n",
    "        frame = cv2.cvtColor(frame, cv2.COLOR_GRAY2BGR)  \n",
    "        out.write(frame)\n",
    "    else:\n",
    "        break\n",
    "endtime = dt.now()\n",
    "cap.release()\n",
    "out.release()\n",
    "print(\"Compressed \"+output_vid+\" in {}.\".format(endtime-starttime))"
   ]
  }
 ],
 "metadata": {
  "kernelspec": {
   "display_name": "Python 3",
   "language": "python",
   "name": "python3"
  },
  "language_info": {
   "codemirror_mode": {
    "name": "ipython",
    "version": 3
   },
   "file_extension": ".py",
   "mimetype": "text/x-python",
   "name": "python",
   "nbconvert_exporter": "python",
   "pygments_lexer": "ipython3",
   "version": "3.6.9"
  }
 },
 "nbformat": 4,
 "nbformat_minor": 4
}
