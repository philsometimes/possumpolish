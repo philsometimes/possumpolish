{
 "cells": [
  {
   "cell_type": "code",
   "execution_count": 19,
   "metadata": {},
   "outputs": [],
   "source": [
    "from scanDir import scanDir\n",
    "import numpy as np\n",
    "import cv2\n",
    "import os\n",
    "\n"
   ]
  },
  {
   "cell_type": "code",
   "execution_count": 40,
   "metadata": {},
   "outputs": [
    {
     "name": "stdout",
     "output_type": "stream",
     "text": [
      "Found file with extension .avi: E:\\5Apr18.LaiRegnault.SEP92.RS.biceps_3pec_delt\\Run1retpro1_95-3-4msCam1.avi\n",
      "Found file with extension .avi: E:\\5Apr18.LaiRegnault.SEP92.RS.biceps_3pec_delt\\Run1retpro1_95-3-4msCam2.avi\n"
     ]
    }
   ],
   "source": [
    "input_dir=r'E:\\5Apr18.LaiRegnault.SEP92.RS.biceps_3pec_delt'\n",
    "video_dict = {}\n",
    "video_dict['A'], video_dict['B'] = scanDir(input_dir, \"avi\")\n",
    "codec = 'avc1'\n"
   ]
  },
  {
   "cell_type": "code",
   "execution_count": 18,
   "metadata": {},
   "outputs": [
    {
     "data": {
      "text/plain": [
       "{'A': 'E:\\\\5Apr18.LaiRegnault.SEP92.RS.biceps_3pec_delt\\\\Run1retpro1_95-3-4msCam1.avi',\n",
       " 'B': 'E:\\\\5Apr18.LaiRegnault.SEP92.RS.biceps_3pec_delt\\\\Run1retpro1_95-3-4msCam2.avi'}"
      ]
     },
     "execution_count": 18,
     "metadata": {},
     "output_type": "execute_result"
    }
   ],
   "source": [
    "video_dict"
   ]
  },
  {
   "cell_type": "code",
   "execution_count": 22,
   "metadata": {},
   "outputs": [
    {
     "data": {
      "text/plain": [
       "'Run1retpro1_95-3-4msCam1'"
      ]
     },
     "execution_count": 22,
     "metadata": {},
     "output_type": "execute_result"
    }
   ],
   "source": [
    "os.path.splitext(os.path.basename(video_dict['A']))[0]"
   ]
  },
  {
   "cell_type": "code",
   "execution_count": 45,
   "metadata": {},
   "outputs": [
    {
     "name": "stdout",
     "output_type": "stream",
     "text": [
      "done!\n"
     ]
    }
   ],
   "source": [
    "frame_index = 0\n",
    "capA = cv2.VideoCapture(video_dict['A'])\n",
    "capB = cv2.VideoCapture(video_dict['B'])\n",
    "input_name =os.path.splitext(os.path.basename(video_dict['A']))\n",
    "output_name = \"RGBMerge_\"+input_name[0][:-4]+input_name[1]\n",
    "out = cv2.VideoWriter(output_name,\n",
    "                     cv2.VideoWriter_fourcc(*codec),\n",
    "                     round(capA.get(5),2),(int(capA.get(3)), int(capA.get(4))))\n",
    "while(capA.isOpened()):\n",
    "    retA, frameA = capA.read()\n",
    "    retB, frameB = capB.read()\n",
    "    if retA == True:\n",
    "        frameA = cv2.cvtColor(frameA, cv2.COLOR_BGR2GRAY)\n",
    "        frameB = cv2.cvtColor(frameB, cv2.COLOR_BGR2GRAY)\n",
    "        #difference = cv2.subtract(frameA, frameB)\n",
    "        #cv2.imshow('difference',difference)\n",
    "        out.write(frameA)\n",
    "    else:\n",
    "        break\n",
    "    capA.release()\n",
    "    capB.release()\n",
    "    out.release()\n",
    "    cv2.destroyAllWindows()\n",
    "    print(\"done!\")\n",
    "        \n",
    "                \n"
   ]
  },
  {
   "cell_type": "code",
   "execution_count": 52,
   "metadata": {},
   "outputs": [],
   "source": [
    "capA = cv2.VideoCapture(video_dict['A'])\n"
   ]
  },
  {
   "cell_type": "code",
   "execution_count": 63,
   "metadata": {},
   "outputs": [
    {
     "data": {
      "text/plain": [
       "30.0"
      ]
     },
     "execution_count": 63,
     "metadata": {},
     "output_type": "execute_result"
    }
   ],
   "source": [
    "round(capA.get(5),2)"
   ]
  },
  {
   "cell_type": "code",
   "execution_count": null,
   "metadata": {},
   "outputs": [],
   "source": [
    "def concatenateVideos(video_files, codec, interval=1):\n",
    "    frame_index = 0\n",
    "    video_index = 0\n",
    "    cap = cv2.VideoCapture(video_files[0])\n",
    "    fourcc = cv2.VideoWriter_fourcc(*codec)\n",
    "    output_name = \"concatenated_1in\"+str(interval)+\".avi\"\n",
    "    out = cv2.VideoWriter(output_name, \n",
    "                          cv2.VideoWriter_fourcc(*vid_codec), \n",
    "                          cap.get(5), (1280,720))\n",
    "    while(cap.isOpened()):\n",
    "        ret, frame = cap.read()\n",
    "        frame_index += 1\n",
    "        if frame is None:\n",
    "            print(\"end of video \" + str(video_index) + \" ... next one now\")\n",
    "            video_index += 1\n",
    "            if video_index >= len(video_files):\n",
    "                break\n",
    "            cap = cv2.VideoCapture(video_files[ video_index ])\n",
    "            ret, frame = cap.read()\n",
    "            frame_index = 0\n",
    "        elif frame_index == interval:\n",
    "            frame = frame.astype(np.uint8)\n",
    "            cv2.imshow('frame',frame)\n",
    "            out.write(frame)\n",
    "            if cv2.waitKey(1) & 0xFF == ord('q'):\n",
    "                break\n",
    "            frame_index = 0         \n",
    "    cap.release()\n",
    "    out.release()\n",
    "    cv2.destroyAllWindows()\n",
    "    print(\"done!\")\n"
   ]
  }
 ],
 "metadata": {
  "kernelspec": {
   "display_name": "Python 3",
   "language": "python",
   "name": "python3"
  },
  "language_info": {
   "codemirror_mode": {
    "name": "ipython",
    "version": 3
   },
   "file_extension": ".py",
   "mimetype": "text/x-python",
   "name": "python",
   "nbconvert_exporter": "python",
   "pygments_lexer": "ipython3",
   "version": "3.7.4"
  }
 },
 "nbformat": 4,
 "nbformat_minor": 4
}
