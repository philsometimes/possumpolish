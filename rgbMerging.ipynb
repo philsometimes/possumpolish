{
 "cells": [
  {
   "cell_type": "code",
   "execution_count": 93,
   "metadata": {},
   "outputs": [],
   "source": [
    "from scanDir import scanDir\n",
    "import numpy as np\n",
    "import cv2\n",
    "import os\n",
    "import blend_modes\n",
    "\n"
   ]
  },
  {
   "cell_type": "code",
   "execution_count": 199,
   "metadata": {},
   "outputs": [
    {
     "name": "stdout",
     "output_type": "stream",
     "text": [
      "Found file with extension .avi: E:\\5Apr18.LaiRegnault.SEP92.RS.biceps_3pec_delt\\Run1retpro1_95-3-4msCam1.avi\n",
      "Found file with extension .avi: E:\\5Apr18.LaiRegnault.SEP92.RS.biceps_3pec_delt\\Run1retpro1_95-3-4msCam2.avi\n"
     ]
    }
   ],
   "source": [
    "input_dir=r'E:\\5Apr18.LaiRegnault.SEP92.RS.biceps_3pec_delt'\n",
    "video_dict = {}\n",
    "video_dict['A'], video_dict['B'] = scanDir(input_dir, \"avi\")\n",
    "codec = 0\n",
    "#substitute 0 in call to videowriter for uncompressed, otherwise cv2.VideoWriter_fourcc(*'mp4v')\n",
    "##https://www.microsoft.com/en-us/p/hevc-video-extensions-from-device-manufacturer/9n4wgh0z6vhq?activetab=pivot:overviewtab\n"
   ]
  },
  {
   "cell_type": "code",
   "execution_count": 193,
   "metadata": {},
   "outputs": [
    {
     "data": {
      "text/plain": [
       "{'A': 'E:\\\\5Apr18.LaiRegnault.SEP92.RS.biceps_3pec_delt\\\\Run1retpro1_95-3-4msCam1.avi',\n",
       " 'B': 'E:\\\\5Apr18.LaiRegnault.SEP92.RS.biceps_3pec_delt\\\\Run1retpro1_95-3-4msCam2.avi'}"
      ]
     },
     "execution_count": 193,
     "metadata": {},
     "output_type": "execute_result"
    }
   ],
   "source": [
    "video_dict"
   ]
  },
  {
   "cell_type": "code",
   "execution_count": 22,
   "metadata": {},
   "outputs": [
    {
     "data": {
      "text/plain": [
       "'Run1retpro1_95-3-4msCam1'"
      ]
     },
     "execution_count": 22,
     "metadata": {},
     "output_type": "execute_result"
    }
   ],
   "source": [
    "os.path.splitext(os.path.basename(video_dict['A']))[0]"
   ]
  },
  {
   "cell_type": "code",
   "execution_count": 200,
   "metadata": {},
   "outputs": [
    {
     "name": "stdout",
     "output_type": "stream",
     "text": [
      "done!\n"
     ]
    }
   ],
   "source": [
    "capA = cv2.VideoCapture(video_dict['A'])\n",
    "capB = cv2.VideoCapture(video_dict['B'])\n",
    "input_name =os.path.splitext(os.path.basename(video_dict['A']))\n",
    "output_name = \"RGBMerge_\"+input_name[0][:-4]+input_name[1]\n",
    "out = cv2.VideoWriter(output_name,\n",
    "                     codec,\n",
    "                     round(capA.get(5),2),(int(capA.get(3)), int(capA.get(4))))\n",
    "while(capA.isOpened()):\n",
    "    retA, frameA = capA.read()\n",
    "    retB, frameB = capB.read()\n",
    "    if retA == True:\n",
    "        ## give frames an alpha channel to prepare for blending; blend_modes requires 32bit\n",
    "        frameA = cv2.cvtColor(frameA, cv2.COLOR_BGR2BGRA,4).astype(np.float32)\n",
    "        frameB = cv2.cvtColor(frameB, cv2.COLOR_BGR2BGRA,4).astype(np.float32)\n",
    "        AdiffB = blend_modes.difference(frameA,frameB,1)\n",
    "        ## get rid of alpha channel in preparation for converting back to grayscale; opencv prefers 8bit\n",
    "        frameA = cv2.cvtColor(frameA, cv2.COLOR_BGRA2BGR).astype(np.uint8)  \n",
    "        frameB = cv2.cvtColor(frameB, cv2.COLOR_BGRA2BGR).astype(np.uint8)  \n",
    "        AdiffB = cv2.cvtColor(AdiffB, cv2.COLOR_BGRA2BGR).astype(np.uint8)  \n",
    "        ## convert to grayscale so we can merge into 3-channe\n",
    "        frameA = cv2.cvtColor(frameA, cv2.COLOR_BGR2GRAY)  \n",
    "        frameB = cv2.cvtColor(frameB, cv2.COLOR_BGR2GRAY)  \n",
    "        AdiffB = cv2.cvtColor(AdiffB, cv2.COLOR_BGR2GRAY)  \n",
    "                  \n",
    "        merged = cv2.merge((AdiffB, frameB, frameA))\n",
    "        cv2.imshow('merged',merged)\n",
    "        out.write(merged)\n",
    "        if cv2.waitKey(1) & 0xFF == ord('q'):\n",
    "            break\n",
    "    else:\n",
    "        break\n",
    "capA.release()\n",
    "capB.release()\n",
    "out.release()\n",
    "cv2.destroyAllWindows()\n",
    "print(\"done!\")\n",
    "\n",
    "                \n"
   ]
  },
  {
   "cell_type": "code",
   "execution_count": 165,
   "metadata": {},
   "outputs": [
    {
     "name": "stdout",
     "output_type": "stream",
     "text": [
      "done!\n"
     ]
    }
   ],
   "source": [
    "testC = r\"C:\\Users\\Phil\\Development\\possumpolish\\RGBMerge_Run1retpro1_95-3-4ms.avi\"\n",
    "capC = cv2.VideoCapture(testC)\n",
    "\n",
    "while(capC.isOpened()):\n",
    "    retC, frameC = capC.read()\n",
    "    if retC == True:\n",
    "        B, G, R = cv2.split(frameC)\n",
    "        cv2.imshow('R', R)\n",
    "        if cv2.waitKey(1) & 0xFF == ord('q'):\n",
    "            break\n",
    "    else:\n",
    "        break\n",
    "capC.release()\n",
    "\n",
    "cv2.destroyAllWindows()\n",
    "print(\"done!\")"
   ]
  },
  {
   "cell_type": "code",
   "execution_count": 155,
   "metadata": {},
   "outputs": [
    {
     "name": "stdout",
     "output_type": "stream",
     "text": [
      "C:\\Users\\Phil\\Development\\possumpolishRGBMerge_Run1retpro1_95-3-4ms.avi\n"
     ]
    }
   ],
   "source": [
    "print(r'C:\\Users\\Phil\\Development\\possumpolish'+output_name)"
   ]
  },
  {
   "cell_type": "code",
   "execution_count": null,
   "metadata": {},
   "outputs": [],
   "source": [
    "def concatenateVideos(video_files, codec, interval=1):\n",
    "    frame_index = 0\n",
    "    video_index = 0\n",
    "    cap = cv2.VideoCapture(video_files[0])\n",
    "    fourcc = cv2.VideoWriter_fourcc(*codec)\n",
    "    output_name = \"concatenated_1in\"+str(interval)+\".avi\"\n",
    "    out = cv2.VideoWriter(output_name, \n",
    "                          cv2.VideoWriter_fourcc(*vid_codec), \n",
    "                          cap.get(5), (1280,720))\n",
    "    while(cap.isOpened()):\n",
    "        ret, frame = cap.read()\n",
    "        frame_index += 1\n",
    "        if frame is None:\n",
    "            print(\"end of video \" + str(video_index) + \" ... next one now\")\n",
    "            video_index += 1\n",
    "            if video_index >= len(video_files):\n",
    "                break\n",
    "            cap = cv2.VideoCapture(video_files[ video_index ])\n",
    "            ret, frame = cap.read()\n",
    "            frame_index = 0\n",
    "        elif frame_index == interval:\n",
    "            frame = frame.astype(np.uint8)\n",
    "            cv2.imshow('frame',frame)\n",
    "            out.write(frame)\n",
    "            if cv2.waitKey(1) & 0xFF == ord('q'):\n",
    "                break\n",
    "            frame_index = 0         \n",
    "    cap.release()\n",
    "    out.release()\n",
    "    cv2.destroyAllWindows()\n",
    "    print(\"done!\")\n"
   ]
  }
 ],
 "metadata": {
  "kernelspec": {
   "display_name": "Python 3",
   "language": "python",
   "name": "python3"
  },
  "language_info": {
   "codemirror_mode": {
    "name": "ipython",
    "version": 3
   },
   "file_extension": ".py",
   "mimetype": "text/x-python",
   "name": "python",
   "nbconvert_exporter": "python",
   "pygments_lexer": "ipython3",
   "version": "3.7.4"
  }
 },
 "nbformat": 4,
 "nbformat_minor": 4
}
