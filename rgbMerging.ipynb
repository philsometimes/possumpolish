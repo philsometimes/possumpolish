{
 "cells": [
  {
   "cell_type": "code",
   "execution_count": 1,
   "metadata": {},
   "outputs": [],
   "source": [
    "from scanDir import scanDir\n",
    "from mergeRGB import mergeRGB\n",
    "import numpy as np\n",
    "import cv2\n",
    "import os\n",
    "import re"
   ]
  },
  {
   "cell_type": "code",
   "execution_count": 2,
   "metadata": {},
   "outputs": [
    {
     "name": "stdout",
     "output_type": "stream",
     "text": [
      "Found file with extension .avi: E:\\5Apr18.LaiRegnault.SEP92.RS.biceps_3pec_delt\\Run1retpro1_95-3-4msCam1.avi\n",
      "Found file with extension .avi: E:\\5Apr18.LaiRegnault.SEP92.RS.biceps_3pec_delt\\Run1retpro1_95-3-4msCam2.avi\n"
     ]
    }
   ],
   "source": [
    "input_dir=r'E:\\5Apr18.LaiRegnault.SEP92.RS.biceps_3pec_delt'\n",
    "video_dict = {}\n",
    "video_dict['A'], video_dict['B'] = scanDir(input_dir, \"avi\")\n",
    "codec = 0\n",
    "#substitute 0 in call to videowriter for uncompressed, otherwise cv2.VideoWriter_fourcc(*'mp4v')\n",
    "##https://www.microsoft.com/en-us/p/hevc-video-extensions-from-device-manufacturer/9n4wgh0z6vhq?activetab=pivot:overviewtab\n"
   ]
  },
  {
   "cell_type": "code",
   "execution_count": 5,
   "metadata": {},
   "outputs": [
    {
     "name": "stdout",
     "output_type": "stream",
     "text": [
      "done!\n"
     ]
    }
   ],
   "source": [
    "mergeRGB(video_dict,codec,\"difference\")"
   ]
  },
  {
   "cell_type": "code",
   "execution_count": 9,
   "metadata": {},
   "outputs": [],
   "source": [
    "video_list = scanDir(r'E:\\ex_possum')\n",
    "# parent_dir = os.path.commonpath([video_dict['A'],video_dict['B']])\n",
    "# input_name =os.path.splitext(os.path.basename(video_dict['A']))\n",
    "# input_name[0][:-4]\n",
    "# parent_dir\n",
    "\n",
    "## filter out calibration files\n",
    "video_list_nocals = [file for file in video_list if not re.search('Camera No.', file)]\n",
    "parent_dir = os.path.commonpath(video_list_nocals)\n"
   ]
  },
  {
   "cell_type": "code",
   "execution_count": 12,
   "metadata": {},
   "outputs": [
    {
     "data": {
      "text/plain": [
       "('E:\\\\ex_possum\\\\11Apr18.LaiRegnault.SEP101.LS.biceps_teres_lat\\\\run1retpro1_90-35-4ms',\n",
       " 'run1retpro1_90-35-4msCam1.avi')"
      ]
     },
     "execution_count": 12,
     "metadata": {},
     "output_type": "execute_result"
    }
   ],
   "source": [
    "os.path.split(video_list_nocals[2])"
   ]
  },
  {
   "cell_type": "code",
   "execution_count": 5,
   "metadata": {},
   "outputs": [],
   "source": [
    "def getExperiment(path, parent_dir):\n",
    "    if path.startswith(parent_dir):\n",
    "        rel_path = path.replace(parent_dir, '')\n",
    "    experiment = rel_path.split('\\\\')[1]\n",
    "    return experiment\n",
    "        "
   ]
  },
  {
   "cell_type": "code",
   "execution_count": 19,
   "metadata": {},
   "outputs": [
    {
     "data": {
      "text/plain": [
       "'E:\\\\ex_possum\\\\5Apr18.LaiRegnault.SEP92.RS.biceps_3pec_delt'"
      ]
     },
     "execution_count": 19,
     "metadata": {},
     "output_type": "execute_result"
    }
   ],
   "source": [
    "parent_dir\n"
   ]
  },
  {
   "cell_type": "markdown",
   "metadata": {},
   "source": [
    "#### Check to make sure we can still decompose the channels"
   ]
  },
  {
   "cell_type": "code",
   "execution_count": 49,
   "metadata": {},
   "outputs": [
    {
     "name": "stdout",
     "output_type": "stream",
     "text": [
      "done!\n"
     ]
    }
   ],
   "source": [
    "test_dir = r\"E:\\ex_possum\"\n",
    "video_list = scanDir(test_dir)\n",
    "video_list_nocals = [file for file in video_list if not re.search('Camera No.', file)]\n",
    "parent_dir = os.path.commonpath(video_list_nocals)\n",
    "experiment = getExperiment(video_list_nocals[0],parent_dir)\n",
    "run = os.path.splitext(os.path.basename(video_list_nocals[0]))[0][:-4]\n",
    "frame_index = 0\n",
    "font_family = cv2.FONT_HERSHEY_SIMPLEX\n",
    "font_size = 0.5\n",
    "font_color = (255, 255, 255)\n",
    "\n",
    "test_cap = cv2.VideoCapture(video_list_nocals[0])\n",
    "\n",
    "while(test_cap.isOpened()):\n",
    "    test_ret, test_frame = test_cap.read()\n",
    "    frame_index += 1\n",
    "    if test_ret == True:\n",
    "        test_frame = cv2.putText(test_frame, 'EXP: '+experiment, (20,980), font_family,\n",
    "                                font_size, font_color)\n",
    "        test_frame = cv2.putText(test_frame, 'RUN: '+run, (20,1000), font_family,\n",
    "                                font_size, font_color)\n",
    "        test_frame = cv2.putText(test_frame, 'FRAME: '+str(frame_index), (20,1020), font_family,\n",
    "                                font_size, font_color)\n",
    "        cv2.imshow('frame',test_frame)\n",
    "        if cv2.waitKey(1) & 0xFF == ord('q'):\n",
    "            break\n",
    "            frame_index = 0  \n",
    "    else:\n",
    "        break\n",
    "        frame_index = 0  \n",
    "test_cap.release()\n",
    "cv2.destroyAllWindows()\n",
    "print('done!')\n",
    "        \n"
   ]
  },
  {
   "cell_type": "code",
   "execution_count": null,
   "metadata": {},
   "outputs": [],
   "source": [
    "testC = r\"C:\\Users\\Phil\\Development\\possumpolish\\RGBMerge_Run1retpro1_95-3-4ms.avi\"\n",
    "capC = cv2.VideoCapture(testC)\n",
    "\n",
    "while(capC.isOpened()):\n",
    "    retC, frameC = capC.read()\n",
    "    if retC == True:\n",
    "        B, G, R = cv2.split(frameC)\n",
    "        cv2.imshow('R', R)\n",
    "        if cv2.waitKey(1) & 0xFF == ord('q'):\n",
    "            break\n",
    "    else:\n",
    "        break\n",
    "capC.release()\n",
    "\n",
    "cv2.destroyAllWindows()\n",
    "print(\"done!\")"
   ]
  },
  {
   "cell_type": "code",
   "execution_count": 5,
   "metadata": {},
   "outputs": [
    {
     "ename": "NameError",
     "evalue": "name 'frameC' is not defined",
     "output_type": "error",
     "traceback": [
      "\u001b[1;31m---------------------------------------------------------------------------\u001b[0m",
      "\u001b[1;31mNameError\u001b[0m                                 Traceback (most recent call last)",
      "\u001b[1;32m<ipython-input-5-9435ad147b01>\u001b[0m in \u001b[0;36m<module>\u001b[1;34m\u001b[0m\n\u001b[1;32m----> 1\u001b[1;33m \u001b[0mframeC\u001b[0m\u001b[1;33m\u001b[0m\u001b[1;33m\u001b[0m\u001b[0m\n\u001b[0m",
      "\u001b[1;31mNameError\u001b[0m: name 'frameC' is not defined"
     ]
    }
   ],
   "source": [
    "frameC"
   ]
  },
  {
   "cell_type": "code",
   "execution_count": 5,
   "metadata": {},
   "outputs": [
    {
     "ename": "KeyboardInterrupt",
     "evalue": "",
     "output_type": "error",
     "traceback": [
      "\u001b[1;31m---------------------------------------------------------------------------\u001b[0m",
      "\u001b[1;31mKeyboardInterrupt\u001b[0m                         Traceback (most recent call last)",
      "\u001b[1;32m<ipython-input-5-0f230cce1f12>\u001b[0m in \u001b[0;36m<module>\u001b[1;34m\u001b[0m\n\u001b[0;32m      2\u001b[0m \u001b[0mcapC\u001b[0m \u001b[1;33m=\u001b[0m \u001b[0mcv2\u001b[0m\u001b[1;33m.\u001b[0m\u001b[0mVideoCapture\u001b[0m\u001b[1;33m(\u001b[0m\u001b[0mtestC\u001b[0m\u001b[1;33m)\u001b[0m\u001b[1;33m\u001b[0m\u001b[1;33m\u001b[0m\u001b[0m\n\u001b[0;32m      3\u001b[0m \u001b[1;32mwhile\u001b[0m\u001b[1;33m(\u001b[0m\u001b[0mcapC\u001b[0m\u001b[1;33m.\u001b[0m\u001b[0misOpened\u001b[0m\u001b[1;33m(\u001b[0m\u001b[1;33m)\u001b[0m\u001b[1;33m)\u001b[0m\u001b[1;33m:\u001b[0m\u001b[1;33m\u001b[0m\u001b[1;33m\u001b[0m\u001b[0m\n\u001b[1;32m----> 4\u001b[1;33m     \u001b[0mretC\u001b[0m\u001b[1;33m,\u001b[0m \u001b[0mframeC\u001b[0m \u001b[1;33m=\u001b[0m \u001b[0mcapC\u001b[0m\u001b[1;33m.\u001b[0m\u001b[0mread\u001b[0m\u001b[1;33m(\u001b[0m\u001b[1;33m)\u001b[0m\u001b[1;33m\u001b[0m\u001b[1;33m\u001b[0m\u001b[0m\n\u001b[0m\u001b[0;32m      5\u001b[0m     \u001b[1;32mif\u001b[0m \u001b[0mretC\u001b[0m \u001b[1;33m==\u001b[0m \u001b[1;32mTrue\u001b[0m\u001b[1;33m:\u001b[0m\u001b[1;33m\u001b[0m\u001b[1;33m\u001b[0m\u001b[0m\n\u001b[0;32m      6\u001b[0m         \u001b[0mB\u001b[0m\u001b[1;33m,\u001b[0m \u001b[0mG\u001b[0m\u001b[1;33m,\u001b[0m \u001b[0mR\u001b[0m \u001b[1;33m=\u001b[0m \u001b[0mcv2\u001b[0m\u001b[1;33m.\u001b[0m\u001b[0msplit\u001b[0m\u001b[1;33m(\u001b[0m\u001b[0mframeC\u001b[0m\u001b[1;33m)\u001b[0m\u001b[1;33m\u001b[0m\u001b[1;33m\u001b[0m\u001b[0m\n",
      "\u001b[1;31mKeyboardInterrupt\u001b[0m: "
     ]
    }
   ],
   "source": [
    "testC = r\"C:\\Users\\Phil\\Development\\possumpolish\\RGBMerge_Run1retpro1_95-3-4ms.avi\"\n",
    "capC = cv2.VideoCapture(testC)\n",
    "while(capC.isOpened()):\n",
    "    retC, frameC = capC.read()\n",
    "    if retC == True:\n",
    "        B, G, R = cv2.split(frameC)\n",
    "        cv2.imshow('R', R)"
   ]
  },
  {
   "cell_type": "code",
   "execution_count": 6,
   "metadata": {},
   "outputs": [],
   "source": [
    "cv2.destroyAllWindows()\n"
   ]
  },
  {
   "cell_type": "code",
   "execution_count": null,
   "metadata": {},
   "outputs": [],
   "source": []
  },
  {
   "cell_type": "code",
   "execution_count": null,
   "metadata": {},
   "outputs": [],
   "source": []
  }
 ],
 "metadata": {
  "kernelspec": {
   "display_name": "Python 3",
   "language": "python",
   "name": "python3"
  },
  "language_info": {
   "codemirror_mode": {
    "name": "ipython",
    "version": 3
   },
   "file_extension": ".py",
   "mimetype": "text/x-python",
   "name": "python",
   "nbconvert_exporter": "python",
   "pygments_lexer": "ipython3",
   "version": "3.7.4"
  }
 },
 "nbformat": 4,
 "nbformat_minor": 4
}
